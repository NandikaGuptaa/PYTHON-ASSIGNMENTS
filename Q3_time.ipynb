{
  "nbformat": 4,
  "nbformat_minor": 0,
  "metadata": {
    "colab": {
      "provenance": [],
      "authorship_tag": "ABX9TyMYylco5g6c1oXupYF1QQ+p",
      "include_colab_link": true
    },
    "kernelspec": {
      "name": "python3",
      "display_name": "Python 3"
    },
    "language_info": {
      "name": "python"
    }
  },
  "cells": [
    {
      "cell_type": "markdown",
      "metadata": {
        "id": "view-in-github",
        "colab_type": "text"
      },
      "source": [
        "<a href=\"https://colab.research.google.com/github/NandikaGuptaa/PYTHON-ASSIGNMENTS/blob/main/Q3_time.ipynb\" target=\"_parent\"><img src=\"https://colab.research.google.com/assets/colab-badge.svg\" alt=\"Open In Colab\"/></a>"
      ]
    },
    {
      "cell_type": "code",
      "execution_count": null,
      "metadata": {
        "colab": {
          "base_uri": "https://localhost:8080/"
        },
        "id": "cd1kYeWEvhKR",
        "outputId": "5db5b992-b811-4e3a-8d89-9424ee0392ca"
      },
      "outputs": [
        {
          "output_type": "stream",
          "name": "stdout",
          "text": [
            "ENTER THE NUMBER OF SECONDS : 280\n",
            "TIME IS 4 MINUTES AND 40 SECONDS.\n"
          ]
        }
      ],
      "source": [
        "seconds=int(input(\"ENTER THE NUMBER OF SECONDS : \"))\n",
        "# example : 280//60=4 ; 280%60=40\n",
        "# minutes : 4 minutes and 40 seconds\n",
        "print(\"TIME IS\",seconds//60,\"MINUTES AND\",seconds%60,\"SECONDS.\")\n"
      ]
    }
  ]
}