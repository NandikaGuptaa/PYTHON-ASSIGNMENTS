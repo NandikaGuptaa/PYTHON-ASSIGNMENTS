{
  "nbformat": 4,
  "nbformat_minor": 0,
  "metadata": {
    "colab": {
      "provenance": [],
      "authorship_tag": "ABX9TyMO53wjpkJeO42yEuHWAf06",
      "include_colab_link": true
    },
    "kernelspec": {
      "name": "python3",
      "display_name": "Python 3"
    },
    "language_info": {
      "name": "python"
    }
  },
  "cells": [
    {
      "cell_type": "markdown",
      "metadata": {
        "id": "view-in-github",
        "colab_type": "text"
      },
      "source": [
        "<a href=\"https://colab.research.google.com/github/NandikaGuptaa/PYTHON-ASSIGNMENTS/blob/main/Average_of_3_numbers.ipynb\" target=\"_parent\"><img src=\"https://colab.research.google.com/assets/colab-badge.svg\" alt=\"Open In Colab\"/></a>"
      ]
    },
    {
      "cell_type": "code",
      "execution_count": null,
      "metadata": {
        "colab": {
          "base_uri": "https://localhost:8080/"
        },
        "id": "z9y-e58GPRJA",
        "outputId": "827d1459-ae3b-40c0-d8d1-6ced08d2b2eb"
      },
      "outputs": [
        {
          "output_type": "stream",
          "name": "stdout",
          "text": [
            "ENTER THE FIRST NUMBER : 5\n",
            "ENTER THE SECOND NUMBER : 5\n",
            "ENTER THE THIRD NUMBER : 1\n",
            "AVERAGE =  3.6666666666666665\n"
          ]
        }
      ],
      "source": [
        "a=float(input(\"ENTER THE FIRST NUMBER : \"))\n",
        "b=float(input(\"ENTER THE SECOND NUMBER : \"))\n",
        "c=float(input(\"ENTER THE THIRD NUMBER : \"))\n",
        "Average=(a+b+c)/3\n",
        "print(\"AVERAGE = \", Average)"
      ]
    }
  ]
}