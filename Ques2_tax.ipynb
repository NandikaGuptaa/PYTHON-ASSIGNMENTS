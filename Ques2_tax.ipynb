{
  "nbformat": 4,
  "nbformat_minor": 0,
  "metadata": {
    "colab": {
      "provenance": [],
      "authorship_tag": "ABX9TyP3PV/Fq7DdQQzeBlUGMjlc",
      "include_colab_link": true
    },
    "kernelspec": {
      "name": "python3",
      "display_name": "Python 3"
    },
    "language_info": {
      "name": "python"
    }
  },
  "cells": [
    {
      "cell_type": "markdown",
      "metadata": {
        "id": "view-in-github",
        "colab_type": "text"
      },
      "source": [
        "<a href=\"https://colab.research.google.com/github/NandikaGuptaa/PYTHON-ASSIGNMENTS/blob/main/Ques2_tax.ipynb\" target=\"_parent\"><img src=\"https://colab.research.google.com/assets/colab-badge.svg\" alt=\"Open In Colab\"/></a>"
      ]
    },
    {
      "cell_type": "code",
      "execution_count": null,
      "metadata": {
        "id": "gfIQ5QtaSui1"
      },
      "outputs": [],
      "source": [
        "gross_income=float(input(\"ENTER THE GROSS INCOME : \"))\n",
        "number_of_dependents=float(input(\"ENTER NUMBER OF DEPENDENTS : \"))\n",
        "# Standard deduction = $10000 , dependent deduction = $3000\n",
        "taxable_income = gross_income - 10000-(3000 * number_of_dependents)\n",
        "tax=taxable_income * 0.20\n",
        "print(\"TAX = $\",tax)"
      ]
    }
  ]
}