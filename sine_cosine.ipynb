{
  "nbformat": 4,
  "nbformat_minor": 0,
  "metadata": {
    "colab": {
      "provenance": [],
      "authorship_tag": "ABX9TyP7ywD62uCXfKYMOgpeTWOh",
      "include_colab_link": true
    },
    "kernelspec": {
      "name": "python3",
      "display_name": "Python 3"
    },
    "language_info": {
      "name": "python"
    }
  },
  "cells": [
    {
      "cell_type": "markdown",
      "metadata": {
        "id": "view-in-github",
        "colab_type": "text"
      },
      "source": [
        "<a href=\"https://colab.research.google.com/github/NandikaGuptaa/PYTHON-ASSIGNMENTS/blob/main/sine_cosine.ipynb\" target=\"_parent\"><img src=\"https://colab.research.google.com/assets/colab-badge.svg\" alt=\"Open In Colab\"/></a>"
      ]
    },
    {
      "cell_type": "code",
      "execution_count": null,
      "metadata": {
        "colab": {
          "base_uri": "https://localhost:8080/"
        },
        "id": "jxbHWpmt1aXP",
        "outputId": "bb7e6611-a958-4bad-891d-b90b2a4e04cc"
      },
      "outputs": [
        {
          "output_type": "stream",
          "name": "stdout",
          "text": [
            "The values of sines and cosines from 0° to 345°\n",
            "sin 0° = 0.0        cos 0° = 1.0\n",
            "sin 15° = 0.2588        cos 15° = 0.9659\n",
            "sin 30° = 0.5        cos 30° = 0.866\n",
            "sin 45° = 0.7071        cos 45° = 0.7071\n",
            "sin 60° = 0.866        cos 60° = 0.5\n",
            "sin 75° = 0.9659        cos 75° = 0.2588\n",
            "sin 90° = 1.0        cos 90° = 0.0\n",
            "sin 105° = 0.9659        cos 105° = -0.2588\n",
            "sin 120° = 0.866        cos 120° = -0.5\n",
            "sin 135° = 0.7071        cos 135° = -0.7071\n",
            "sin 150° = 0.5        cos 150° = -0.866\n",
            "sin 165° = 0.2588        cos 165° = -0.9659\n",
            "sin 180° = 0.0        cos 180° = -1.0\n",
            "sin 195° = -0.2588        cos 195° = -0.9659\n",
            "sin 210° = -0.5        cos 210° = -0.866\n",
            "sin 225° = -0.7071        cos 225° = -0.7071\n",
            "sin 240° = -0.866        cos 240° = -0.5\n",
            "sin 255° = -0.9659        cos 255° = -0.2588\n",
            "sin 270° = -1.0        cos 270° = -0.0\n",
            "sin 285° = -0.9659        cos 285° = 0.2588\n",
            "sin 300° = -0.866        cos 300° = 0.5\n",
            "sin 315° = -0.7071        cos 315° = 0.7071\n",
            "sin 330° = -0.5        cos 330° = 0.866\n",
            "sin 345° = -0.2588        cos 345° = 0.9659\n"
          ]
        }
      ],
      "source": [
        "import math\n",
        "print(\"The values of sines and cosines from 0\" + chr(176) + \" to \" + \"345\" + chr(176))\n",
        "angle = 0\n",
        "for angle in range(0, 360, 15):\n",
        "    valuesin = round(math.sin(math.radians(angle)), 4)\n",
        "    valuecos = round(math.cos(math.radians(angle)), 4)\n",
        "    print(\"sin \" + str(angle) + chr(176) + \" = \" + str(valuesin) + \"        \" + \"cos \" + str(angle) + chr(176) + \" = \" + str(valuecos))"
      ]
    }
  ]
}