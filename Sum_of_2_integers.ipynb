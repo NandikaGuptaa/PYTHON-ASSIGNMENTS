{
  "nbformat": 4,
  "nbformat_minor": 0,
  "metadata": {
    "colab": {
      "provenance": [],
      "authorship_tag": "ABX9TyNo4iaKbtnszxDzdKG3Fp60",
      "include_colab_link": true
    },
    "kernelspec": {
      "name": "python3",
      "display_name": "Python 3"
    },
    "language_info": {
      "name": "python"
    }
  },
  "cells": [
    {
      "cell_type": "markdown",
      "metadata": {
        "id": "view-in-github",
        "colab_type": "text"
      },
      "source": [
        "<a href=\"https://colab.research.google.com/github/NandikaGuptaa/PYTHON-ASSIGNMENTS/blob/main/Sum_of_2_integers.ipynb\" target=\"_parent\"><img src=\"https://colab.research.google.com/assets/colab-badge.svg\" alt=\"Open In Colab\"/></a>"
      ]
    },
    {
      "cell_type": "code",
      "execution_count": null,
      "metadata": {
        "colab": {
          "base_uri": "https://localhost:8080/"
        },
        "id": "Q4eI4_7rKGP3",
        "outputId": "5f7f5713-4f38-4697-bc5e-f9c1fdcaa13e"
      },
      "outputs": [
        {
          "output_type": "stream",
          "name": "stdout",
          "text": [
            "ENTER THE FIRST NUMBER : 45\n",
            "ENTER THE SECOND NUMBER : 46\n",
            "SUM OF TWO NUMBERS =  91\n"
          ]
        }
      ],
      "source": [
        "# a= first number\n",
        "# b= second number\n",
        "a= int(input(\"ENTER THE FIRST NUMBER : \"))\n",
        "b= int(input(\"ENTER THE SECOND NUMBER : \"))\n",
        "Sum= a+b\n",
        "print(\"SUM OF TWO NUMBERS = \",Sum)"
      ]
    }
  ]
}