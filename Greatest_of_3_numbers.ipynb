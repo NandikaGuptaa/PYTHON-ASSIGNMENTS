{
  "nbformat": 4,
  "nbformat_minor": 0,
  "metadata": {
    "colab": {
      "provenance": [],
      "authorship_tag": "ABX9TyM6/yFq2uQ8UJ//r6zwUTCh",
      "include_colab_link": true
    },
    "kernelspec": {
      "name": "python3",
      "display_name": "Python 3"
    },
    "language_info": {
      "name": "python"
    }
  },
  "cells": [
    {
      "cell_type": "markdown",
      "metadata": {
        "id": "view-in-github",
        "colab_type": "text"
      },
      "source": [
        "<a href=\"https://colab.research.google.com/github/NandikaGuptaa/PYTHON-ASSIGNMENTS/blob/main/Greatest_of_3_numbers.ipynb\" target=\"_parent\"><img src=\"https://colab.research.google.com/assets/colab-badge.svg\" alt=\"Open In Colab\"/></a>"
      ]
    },
    {
      "cell_type": "code",
      "execution_count": null,
      "metadata": {
        "colab": {
          "base_uri": "https://localhost:8080/"
        },
        "id": "4Do34H0JM4bT",
        "outputId": "d567e3e5-303d-445a-f6ee-6b8cf272abd4"
      },
      "outputs": [
        {
          "output_type": "stream",
          "name": "stdout",
          "text": [
            "ENTER THE FIRST NUMBER : 5\n",
            "ENTER THE SECOND NUMBER : 7\n",
            "ENTER THE THIRSD NUMBER : 2\n",
            "7 is the greatest number\n"
          ]
        }
      ],
      "source": [
        "a=int(input(\"ENTER THE FIRST NUMBER : \"))\n",
        "b=int(input(\"ENTER THE SECOND NUMBER : \"))\n",
        "c=int(input(\"ENTER THE THIRSD NUMBER : \"))\n",
        "if   (a>b and a>c) :\n",
        "      print(a, \"is the greatest number\") \n",
        "elif (b>a and b>c) :\n",
        "      print(b, \"is the greatest number\")\n",
        "else:\n",
        "      print(c, \"is the greatest number\")          "
      ]
    }
  ]
}